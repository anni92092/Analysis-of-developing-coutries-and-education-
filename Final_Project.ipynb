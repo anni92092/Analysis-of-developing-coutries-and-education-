{
 "cells": [
  {
   "cell_type": "code",
   "execution_count": 8,
   "metadata": {},
   "outputs": [],
   "source": [
    "import pandas as pd\n",
    "import numpy as np\n",
    "import matplotlib.pyplot as plt"
   ]
  },
  {
   "cell_type": "code",
   "execution_count": 89,
   "metadata": {},
   "outputs": [],
   "source": [
    "children_education = pd.read_csv('childreneducation.csv')\n",
    "children_education1 = pd.read_csv('childreneducation1.csv')"
   ]
  },
  {
   "cell_type": "code",
   "execution_count": 12,
   "metadata": {},
   "outputs": [
    {
     "data": {
      "text/html": [
       "<div>\n",
       "<style scoped>\n",
       "    .dataframe tbody tr th:only-of-type {\n",
       "        vertical-align: middle;\n",
       "    }\n",
       "\n",
       "    .dataframe tbody tr th {\n",
       "        vertical-align: top;\n",
       "    }\n",
       "\n",
       "    .dataframe thead th {\n",
       "        text-align: right;\n",
       "    }\n",
       "</style>\n",
       "<table border=\"1\" class=\"dataframe\">\n",
       "  <thead>\n",
       "    <tr style=\"text-align: right;\">\n",
       "      <th></th>\n",
       "      <th>Country</th>\n",
       "      <th>Population (2020)</th>\n",
       "      <th>% of Education Budget</th>\n",
       "      <th>% of Literacy</th>\n",
       "      <th>% of children that never attend school</th>\n",
       "      <th>% of poverty</th>\n",
       "    </tr>\n",
       "  </thead>\n",
       "  <tbody>\n",
       "    <tr>\n",
       "      <th>0</th>\n",
       "      <td>India</td>\n",
       "      <td>1380004385</td>\n",
       "      <td>3.1</td>\n",
       "      <td>74</td>\n",
       "      <td>13</td>\n",
       "      <td>21</td>\n",
       "    </tr>\n",
       "    <tr>\n",
       "      <th>1</th>\n",
       "      <td>Pakistan</td>\n",
       "      <td>220892340</td>\n",
       "      <td>2.9</td>\n",
       "      <td>59</td>\n",
       "      <td>35</td>\n",
       "      <td>24</td>\n",
       "    </tr>\n",
       "    <tr>\n",
       "      <th>2</th>\n",
       "      <td>Guatemala</td>\n",
       "      <td>17915568</td>\n",
       "      <td>2.8</td>\n",
       "      <td>81</td>\n",
       "      <td>14</td>\n",
       "      <td>59</td>\n",
       "    </tr>\n",
       "    <tr>\n",
       "      <th>3</th>\n",
       "      <td>Ethiopia</td>\n",
       "      <td>114963588</td>\n",
       "      <td>4.4</td>\n",
       "      <td>51</td>\n",
       "      <td>16</td>\n",
       "      <td>23</td>\n",
       "    </tr>\n",
       "    <tr>\n",
       "      <th>4</th>\n",
       "      <td>El Salvador</td>\n",
       "      <td>6486205</td>\n",
       "      <td>3.6</td>\n",
       "      <td>89</td>\n",
       "      <td>6</td>\n",
       "      <td>22</td>\n",
       "    </tr>\n",
       "  </tbody>\n",
       "</table>\n",
       "</div>"
      ],
      "text/plain": [
       "       Country  Population (2020)  % of Education Budget  % of Literacy  \\\n",
       "0        India         1380004385                    3.1             74   \n",
       "1     Pakistan          220892340                    2.9             59   \n",
       "2    Guatemala           17915568                    2.8             81   \n",
       "3     Ethiopia          114963588                    4.4             51   \n",
       "4  El Salvador            6486205                    3.6             89   \n",
       "\n",
       "   % of children that never attend school  % of poverty  \n",
       "0                                      13            21  \n",
       "1                                      35            24  \n",
       "2                                      14            59  \n",
       "3                                      16            23  \n",
       "4                                       6            22  "
      ]
     },
     "execution_count": 12,
     "metadata": {},
     "output_type": "execute_result"
    }
   ],
   "source": [
    "children_education.head()"
   ]
  },
  {
   "cell_type": "code",
   "execution_count": 87,
   "metadata": {},
   "outputs": [
    {
     "data": {
      "image/png": "[encoded data removed]",
      "text/plain": [
       "<Figure size 432x288 with 1 Axes>"
      ]
     },
     "metadata": {
      "needs_background": "light"
     },
     "output_type": "display_data"
    }
   ],
   "source": [
    "country = children_education['Country'].tolist()\n",
    "education_budget = children_education ['% of Education Budget'].tolist()\n",
    "literacy = children_education['% of Literacy'].tolist()\n",
    "never_attend_school = children_education['% of children that never attend school'].tolist()\n",
    "poverty = children_education['% of poverty'].tolist()\n",
    "\n",
    "x = np.arange(len(country))  # the label locations\n",
    "width = 0.15  # the width of the bars\n",
    "\n",
    "fig, ax = plt.subplots()\n",
    "rects1 = ax.bar(x - 3*width/2, education_budget, width, label='% of Education Budget')\n",
    "rects2 = ax.bar(x - width/2, literacy, width, label='% of Literacy')\n",
    "rects3 = ax.bar(x + width/2, never_attend_school, width, label='% of children that never attend school')\n",
    "rects4 = ax.bar(x + 3*width/2, poverty, width, label='% of poverty')\n",
    "\n",
    "# Add some text for labels, title and custom x-axis tick labels, etc.\n",
    "ax.set_title('Title')\n",
    "ax.set_xticks(x)\n",
    "ax.set_xticklabels(country)\n",
    "ax.legend()\n",
    "\n",
    "# ax.bar_label(rects1, padding=3)\n",
    "# ax.bar_label(rects2, padding=3)\n",
    "\n",
    "fig.tight_layout()\n",
    "\n",
    "plt.show()"
   ]
  },
  {
   "cell_type": "code",
   "execution_count": 90,
   "metadata": {},
   "outputs": [
    {
     "data": {
      "text/html": [
       "<div>\n",
       "<style scoped>\n",
       "    .dataframe tbody tr th:only-of-type {\n",
       "        vertical-align: middle;\n",
       "    }\n",
       "\n",
       "    .dataframe tbody tr th {\n",
       "        vertical-align: top;\n",
       "    }\n",
       "\n",
       "    .dataframe thead th {\n",
       "        text-align: right;\n",
       "    }\n",
       "</style>\n",
       "<table border=\"1\" class=\"dataframe\">\n",
       "  <thead>\n",
       "    <tr style=\"text-align: right;\">\n",
       "      <th></th>\n",
       "      <th>Country</th>\n",
       "      <th>Population (2020)</th>\n",
       "      <th>% of Education Budget</th>\n",
       "      <th>% of Literacy</th>\n",
       "      <th>% of children that never attend school</th>\n",
       "      <th>% of poverty</th>\n",
       "    </tr>\n",
       "  </thead>\n",
       "  <tbody>\n",
       "    <tr>\n",
       "      <th>0</th>\n",
       "      <td>USA</td>\n",
       "      <td>331002651</td>\n",
       "      <td>4.9</td>\n",
       "      <td>99</td>\n",
       "      <td>5.0</td>\n",
       "      <td>9</td>\n",
       "    </tr>\n",
       "    <tr>\n",
       "      <th>1</th>\n",
       "      <td>Sweden</td>\n",
       "      <td>10161569</td>\n",
       "      <td>7.6</td>\n",
       "      <td>99</td>\n",
       "      <td>4.0</td>\n",
       "      <td>17</td>\n",
       "    </tr>\n",
       "    <tr>\n",
       "      <th>2</th>\n",
       "      <td>Switzerland</td>\n",
       "      <td>8654622</td>\n",
       "      <td>5.1</td>\n",
       "      <td>99</td>\n",
       "      <td>7.0</td>\n",
       "      <td>16</td>\n",
       "    </tr>\n",
       "    <tr>\n",
       "      <th>3</th>\n",
       "      <td>Finland</td>\n",
       "      <td>5540720</td>\n",
       "      <td>6.3</td>\n",
       "      <td>100</td>\n",
       "      <td>1.7</td>\n",
       "      <td>12</td>\n",
       "    </tr>\n",
       "    <tr>\n",
       "      <th>4</th>\n",
       "      <td>Japan</td>\n",
       "      <td>126476461</td>\n",
       "      <td>3.1</td>\n",
       "      <td>99</td>\n",
       "      <td>1.5</td>\n",
       "      <td>15</td>\n",
       "    </tr>\n",
       "  </tbody>\n",
       "</table>\n",
       "</div>"
      ],
      "text/plain": [
       "       Country  Population (2020)  % of Education Budget  % of Literacy  \\\n",
       "0          USA          331002651                    4.9             99   \n",
       "1       Sweden           10161569                    7.6             99   \n",
       "2  Switzerland            8654622                    5.1             99   \n",
       "3      Finland            5540720                    6.3            100   \n",
       "4        Japan          126476461                    3.1             99   \n",
       "\n",
       "   % of children that never attend school  % of poverty  \n",
       "0                                     5.0             9  \n",
       "1                                     4.0            17  \n",
       "2                                     7.0            16  \n",
       "3                                     1.7            12  \n",
       "4                                     1.5            15  "
      ]
     },
     "execution_count": 90,
     "metadata": {},
     "output_type": "execute_result"
    }
   ],
   "source": [
    "children_education1.head()"
   ]
  },
  {
   "cell_type": "code",
   "execution_count": 91,
   "metadata": {},
   "outputs": [
    {
     "data": {
      "image/png": "[encoded data removed]",
      "text/plain": [
       "<Figure size 432x288 with 1 Axes>"
      ]
     },
     "metadata": {
      "needs_background": "light"
     },
     "output_type": "display_data"
    }
   ],
   "source": [
    "country = children_education1['Country'].tolist()\n",
    "education_budget = children_education1 ['% of Education Budget'].tolist()\n",
    "literacy = children_education1['% of Literacy'].tolist()\n",
    "never_attend_school = children_education1['% of children that never attend school'].tolist()\n",
    "poverty = children_education1['% of poverty'].tolist()\n",
    "\n",
    "x = np.arange(len(country))  # the label locations\n",
    "width = 0.15  # the width of the bars\n",
    "\n",
    "fig, ax = plt.subplots()\n",
    "rects1 = ax.bar(x - 3*width/2, education_budget, width, label='% of Education Budget')\n",
    "rects2 = ax.bar(x - width/2, literacy, width, label='% of Literacy')\n",
    "rects3 = ax.bar(x + width/2, never_attend_school, width, label='% of children that never attend school')\n",
    "rects4 = ax.bar(x + 3*width/2, poverty, width, label='% of poverty')\n",
    "\n",
    "# Add some text for labels, title and custom x-axis tick labels, etc.\n",
    "ax.set_title('Title')\n",
    "ax.set_xticks(x)\n",
    "ax.set_xticklabels(country)\n",
    "ax.legend()\n",
    "\n",
    "# ax.bar_label(rects1, padding=3)\n",
    "# ax.bar_label(rects2, padding=3)\n",
    "\n",
    "fig.tight_layout()\n",
    "\n",
    "plt.show()"
   ]
  },
  {
   "cell_type": "code",
   "execution_count": null,
   "metadata": {},
   "outputs": [],
   "source": []
  }
 ],
 "metadata": {
  "kernelspec": {
   "display_name": "Python 3",
   "language": "python",
   "name": "python3"
  },
  "language_info": {
   "codemirror_mode": {
    "name": "ipython",
    "version": 3
   },
   "file_extension": ".py",
   "mimetype": "text/x-python",
   "name": "python",
   "nbconvert_exporter": "python",
   "pygments_lexer": "ipython3",
   "version": "3.8.5"
  }
 },
 "nbformat": 4,
 "nbformat_minor": 4
}
